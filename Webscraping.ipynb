{
 "cells": [
  {
   "cell_type": "code",
   "execution_count": 2,
   "metadata": {},
   "outputs": [],
   "source": [
    "import requests\n",
    "from bs4 import BeautifulSoup\n",
    "import pandas\n",
    "\n",
    "base_url = \"https://www.apartments.com/cincinnati-oh/\"\n",
    "\n",
    "# To get the html contents\n",
    "r = requests.get(base_url)\n",
    "c = r.content\n",
    "\n",
    "# To parse the html\n",
    "soup = BeautifulSoup(c,\"html.parser\")\n",
    "\n",
    "# To extract the first and last page numbers\n",
    "paging = soup.find(\"div\",{\"id\":\"placardContainer\"}).find(\"div\",{\"id\":\"paging\"}).find_all(\"a\")\n",
    "start_page = paging[1].text\n",
    "last_page = paging[len(paging)-2].text\n",
    "web_content_list = []\n",
    "\n",
    "for page_number in range(int(start_page),int(last_page) + 1):\n",
    "    \n",
    "    # To form the url based on page numbers\n",
    "    url = base_url+str(page_number)+\"/.html\"\n",
    "    r = requests.get(base_url+str(page_number)+\"/\")\n",
    "    c = r.content\n",
    "    soup = BeautifulSoup(c,\"html.parser\")\n",
    "    \n",
    "    # To extract the Title and the Location\n",
    "    placard_header = soup.find_all(\"header\",{\"class\":\"placardHeader\"})\n",
    "    \n",
    "    # To extract the Rent, No of Beds and Phone Number\n",
    "    placard_content = soup.find_all(\"section\",{\"class\" :\"placardContent\"})\n",
    "    \n",
    "    # To process property by property by looping\n",
    "    for item_header,item_content in zip(placard_header,placard_content):\n",
    "      \n",
    "      # To store the information to a dictionary\n",
    "      web_content_dict = {}\n",
    "      web_content_dict[\"Title\"]=item_header.find(\"a\",{\"class\":\"placardTitle js-placardTitle \"}).text.replace(\"\\r\",\"\").replace(\"\\n\",\"\")\n",
    "      web_content_dict[\"Address\"] = item_header.find(\"div\",{\"class\":\"location\"}).text\n",
    "      web_content_dict[\"Price\"] = item_content.find(\"span\",{\"class\":\"altRentDisplay\"}).text\n",
    "      web_content_dict[\"Beds\"] = item_content.find(\"span\",{\"class\":\"unitLabel\"}).text\n",
    "      web_content_dict[\"Phone\"] = item_content.find(\"div\",{\"class\":\"phone\"}).find(\"span\").text\n",
    "      \n",
    "      # To store the dictionary to into a list\n",
    "      web_content_list.append(web_content_dict)\n",
    "    \n",
    "# To make a dataframe with the list\n",
    "df = pandas.DataFrame(web_content_list)\n",
    "\n",
    "# To write the dataframe to a csv file\n",
    "df.to_csv(\"Output.csv\")"
   ]
  },
  {
   "cell_type": "code",
   "execution_count": null,
   "metadata": {},
   "outputs": [],
   "source": []
  }
 ],
 "metadata": {
  "kernelspec": {
   "display_name": "Python 3",
   "language": "python",
   "name": "python3"
  },
  "language_info": {
   "codemirror_mode": {
    "name": "ipython",
    "version": 3
   },
   "file_extension": ".py",
   "mimetype": "text/x-python",
   "name": "python",
   "nbconvert_exporter": "python",
   "pygments_lexer": "ipython3",
   "version": "3.6.5"
  }
 },
 "nbformat": 4,
 "nbformat_minor": 2
}
